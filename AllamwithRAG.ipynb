{
 "cells": [
  {
   "cell_type": "code",
   "execution_count": 2,
   "metadata": {},
   "outputs": [],
   "source": [
    "import os\n",
    "import getpass\n",
    "\n",
    "def get_credentials():\n",
    "\treturn {\n",
    "\t\t\"url\" : \"https://eu-de.ml.cloud.ibm.com\",\n",
    "\t\t\"apikey\" :\"18AV1meKNbDmaIRYiqL2iG8XPLPovn8nCk5exIVOm5G5\"\n",
    "\t}\n"
   ]
  },
  {
   "cell_type": "code",
   "execution_count": 3,
   "metadata": {},
   "outputs": [],
   "source": [
    "parameters = {\n",
    "    \"decoding_method\": \"greedy\",\n",
    "    \"max_new_tokens\": 4096,\n",
    "    \"repetition_penalty\": 1\n",
    "}"
   ]
  },
  {
   "cell_type": "code",
   "execution_count": 4,
   "metadata": {},
   "outputs": [],
   "source": [
    "model_id = \"sdaia/allam-1-13b-instruct\"\n"
   ]
  },
  {
   "cell_type": "code",
   "execution_count": 5,
   "metadata": {},
   "outputs": [],
   "source": [
    "project_id = \"7c5c2625-4a94-4761-8385-ada9c69cf56d\"\n",
    "#space_id = os.getenv(\"SPACE_ID\")\n"
   ]
  },
  {
   "cell_type": "code",
   "execution_count": 6,
   "metadata": {},
   "outputs": [
    {
     "name": "stderr",
     "output_type": "stream",
     "text": [
      "c:\\Users\\Roro1\\anaconda3\\Lib\\site-packages\\ibm_watsonx_ai\\foundation_models\\model.py:101: DeprecationWarning: The `Model` class is deprecated and will be removed in a future release. Please use the `ModelInference` class instead. To update your imports, use: `from ibm_watsonx_ai.foundation_models import ModelInference`.\n",
      "  warn(\n"
     ]
    }
   ],
   "source": [
    "from ibm_watsonx_ai.foundation_models import Model\n",
    "\n",
    "model = Model(\n",
    "\tmodel_id = model_id,\n",
    "\tparams = parameters,\n",
    "\tcredentials = get_credentials(),\n",
    "\tproject_id = project_id,\n",
    "\t)\n"
   ]
  },
  {
   "cell_type": "code",
   "execution_count": 9,
   "metadata": {},
   "outputs": [],
   "source": [
    "prompt_input = \"\"\"انت مساعد شخصي للاعراب فقط اي سوال يجب ان يرد عليه بشرح للاعراب للاطفال\"\"\"\n"
   ]
  },
  {
   "cell_type": "code",
   "execution_count": 10,
   "metadata": {},
   "outputs": [
    {
     "name": "stdout",
     "output_type": "stream",
     "text": [
      "AI:  كمساعد ذكاء صناعي، يمكنني مساعدتك في فهم قواعد النحو والإعراب بطريقة مبسطة وسهلة الفهم. إذا كان لديك سؤال حول إعراب جملة معينة أو كلمة، يرجى طرحها وسأقوم بشرح الإعراب بطريقة تناسب الأطفال.\n",
      "\n",
      "على سبيل المثال، إذا كنت تريد معرفة إعراب كلمة \"الكتاب\" في الجملة \"قرأت الكتاب\"، سأشرح لك أن \"الكتاب\" هو اسم مجرور وعلامة جره الكسرة الظاهرة على آخره.\n",
      "\n",
      "إذا كان لديك سؤال آخر أو تحتاج إلى مزيد من التوضيح، لا تتردد في طرحه وسأكون سعيداً لمساعدتك. \n"
     ]
    }
   ],
   "source": [
    "question = input(\"Question: \")\n",
    "formattedQuestion = f\"\"\"<s> [INST] {question} [/INST]\"\"\"\n",
    "prompt = f\"\"\"{prompt_input}{formattedQuestion}\"\"\"\n",
    "generated_response = model.generate_text(prompt=prompt, guardrails=False)\n",
    "print(f\"AI: {generated_response}\")\n"
   ]
  },
  {
   "cell_type": "code",
   "execution_count": 11,
   "metadata": {},
   "outputs": [],
   "source": [
    "from sentence_transformers import SentenceTransformer\n",
    "\n",
    "model1=SentenceTransformer(\"intfloat/multilingual-e5-large\")\n"
   ]
  },
  {
   "cell_type": "code",
   "execution_count": null,
   "metadata": {},
   "outputs": [],
   "source": [
    "import os\n",
    "import faiss\n",
    "import numpy as np\n",
    "import csv\n",
    "from docx import Document\n",
    "\n",
    "# Set the embedding dimension for the FAISS index\n",
    "embedding_dim = 1024  # Replace with the correct embedding dimension of your model\n",
    "index = faiss.IndexFlatL2(embedding_dim)  # Use L2 distance for similarity search\n",
    "metadata = []\n",
    "\n",
    "# Function to read the content of a DOCX file\n",
    "def read_docx(file_path):\n",
    "    doc = Document(file_path)\n",
    "    full_text = []\n",
    "    for para in doc.paragraphs:\n",
    "        full_text.append(para.text)\n",
    "    return '\\n'.join(full_text)\n",
    "\n",
    "# Function to split content into chunks with overlap\n",
    "def split_into_chunks(text, chunk_size=512, overlap=50):\n",
    "    tokens = text.split()  # Assuming words as tokens, modify if needed for other tokenization\n",
    "    chunks = []\n",
    "    for i in range(0, len(tokens), chunk_size - overlap):\n",
    "        chunk = \" \".join(tokens[i:i + chunk_size])\n",
    "        chunks.append(chunk)\n",
    "        if i + chunk_size >= len(tokens):\n",
    "            break\n",
    "    return chunks\n",
    "\n",
    "# Loop through all DOCX files in the current directory\n",
    "for filename in os.listdir(\".\"):\n",
    "    if filename.endswith(\".docx\"):\n",
    "        # Construct the file path\n",
    "        file_path = os.path.join(\".\", filename)\n",
    "        \n",
    "        # Read the content of the DOCX file\n",
    "        text = read_docx(file_path)\n",
    "\n",
    "        # Split the document content into chunks\n",
    "        chunks = split_into_chunks(text)\n",
    "\n",
    "        # Process each chunk, generate embedding, and add it to FAISS index\n",
    "        for chunk_num, chunk_text in enumerate(chunks):\n",
    "            # Generate embeddings for the chunk's content\n",
    "            embedding = model1.encode(chunk_text)\n",
    "\n",
    "            # Reshape embedding to add it to the FAISS index\n",
    "            embedding = np.array(embedding).reshape(1, -1)\n",
    "\n",
    "            # Add the embedding to FAISS index\n",
    "            index.add(embedding)\n",
    "\n",
    "            # Store metadata for each chunk, including document name and chunk content\n",
    "            metadata.append({\n",
    "                \"document_name\": filename,\n",
    "                \"chunk_number\": chunk_num + 1,  # Chunk numbering starts from 1\n",
    "                \"chunk_content\": chunk_text,  # Store the actual text content of the chunk\n",
    "                \"embedding\": embedding.tolist()\n",
    "            })\n",
    "\n",
    "# Save metadata to a CSV file\n",
    "csv_file = \"book_embedding.csv\"\n",
    "with open(csv_file, mode=\"w\", newline='', encoding=\"utf-8\") as file:\n",
    "    writer = csv.DictWriter(file, fieldnames=[\"document_name\", \"chunk_number\", \"chunk_content\", \"embedding\"])\n",
    "    writer.writeheader()\n",
    "    for entry in metadata:\n",
    "        writer.writerow(entry)\n",
    "\n",
    "# Save FAISS index to the project directory\n",
    "faiss.write_index(index, \"faiss_book_chunks.index\")\n",
    "\n",
    "print(\"Embeddings, FAISS index, and chunked content saved successfully.\")\n"
   ]
  },
  {
   "cell_type": "code",
   "execution_count": 14,
   "metadata": {},
   "outputs": [],
   "source": [
    "import faiss\n",
    "\n",
    "index = faiss.read_index(\"faiss_book_chunks.index\")\n"
   ]
  },
  {
   "cell_type": "code",
   "execution_count": 15,
   "metadata": {},
   "outputs": [],
   "source": [
    "import pandas as pd\n",
    "\n",
    "df = pd.read_csv('book_embedding.csv')"
   ]
  },
  {
   "cell_type": "code",
   "execution_count": 16,
   "metadata": {},
   "outputs": [
    {
     "data": {
      "text/html": [
       "<div>\n",
       "<style scoped>\n",
       "    .dataframe tbody tr th:only-of-type {\n",
       "        vertical-align: middle;\n",
       "    }\n",
       "\n",
       "    .dataframe tbody tr th {\n",
       "        vertical-align: top;\n",
       "    }\n",
       "\n",
       "    .dataframe thead th {\n",
       "        text-align: right;\n",
       "    }\n",
       "</style>\n",
       "<table border=\"1\" class=\"dataframe\">\n",
       "  <thead>\n",
       "    <tr style=\"text-align: right;\">\n",
       "      <th></th>\n",
       "      <th>document_name</th>\n",
       "      <th>chunk_number</th>\n",
       "      <th>chunk_content</th>\n",
       "      <th>embedding</th>\n",
       "    </tr>\n",
       "  </thead>\n",
       "  <tbody>\n",
       "    <tr>\n",
       "      <th>0</th>\n",
       "      <td>اختبار الوحدة الأولى الأرنب الذكي.docx</td>\n",
       "      <td>1</td>\n",
       "      <td>اختبار الوحدة الأولى الأرنب الذكي يُحكى أنّ أس...</td>\n",
       "      <td>[[0.019123591482639313, -0.013785659335553646,...</td>\n",
       "    </tr>\n",
       "    <tr>\n",
       "      <th>1</th>\n",
       "      <td>اختبار الوحدة الأولى الأرنب الذكي.docx</td>\n",
       "      <td>2</td>\n",
       "      <td>الَّذِي سَيَدُورُ بَيْنَ الأَرْنَبِ وَالحَيَوَ...</td>\n",
       "      <td>[[0.0118407616391778, -0.0035381473135203123, ...</td>\n",
       "    </tr>\n",
       "    <tr>\n",
       "      <th>2</th>\n",
       "      <td>الاختبار التشخيصي صندوق جدّتي.docx</td>\n",
       "      <td>1</td>\n",
       "      <td>الاختبار التشخيصي صندوق جدّتي في نهاية كلّ أسب...</td>\n",
       "      <td>[[0.008984504267573357, -0.003333796514198184,...</td>\n",
       "    </tr>\n",
       "    <tr>\n",
       "      <th>3</th>\n",
       "      <td>التواصل الكتابي بناء فقرتين موضوع .docx</td>\n",
       "      <td>1</td>\n",
       "      <td>التواصل الكتابي بناء فقرتين موضوع الحشرات منَ ...</td>\n",
       "      <td>[[-0.011388594284653664, -0.007934107445180416...</td>\n",
       "    </tr>\n",
       "    <tr>\n",
       "      <th>4</th>\n",
       "      <td>التواصل اللغوي - التواصل الشفهي.docx</td>\n",
       "      <td>1</td>\n",
       "      <td>التواصل اللغوي - التواصل الشفهي الدّرس الأوّل:...</td>\n",
       "      <td>[[0.014624868519604206, -0.0006087979418225586...</td>\n",
       "    </tr>\n",
       "  </tbody>\n",
       "</table>\n",
       "</div>"
      ],
      "text/plain": [
       "                             document_name  chunk_number  \\\n",
       "0   اختبار الوحدة الأولى الأرنب الذكي.docx             1   \n",
       "1   اختبار الوحدة الأولى الأرنب الذكي.docx             2   \n",
       "2       الاختبار التشخيصي صندوق جدّتي.docx             1   \n",
       "3  التواصل الكتابي بناء فقرتين موضوع .docx             1   \n",
       "4     التواصل اللغوي - التواصل الشفهي.docx             1   \n",
       "\n",
       "                                       chunk_content  \\\n",
       "0  اختبار الوحدة الأولى الأرنب الذكي يُحكى أنّ أس...   \n",
       "1  الَّذِي سَيَدُورُ بَيْنَ الأَرْنَبِ وَالحَيَوَ...   \n",
       "2  الاختبار التشخيصي صندوق جدّتي في نهاية كلّ أسب...   \n",
       "3  التواصل الكتابي بناء فقرتين موضوع الحشرات منَ ...   \n",
       "4  التواصل اللغوي - التواصل الشفهي الدّرس الأوّل:...   \n",
       "\n",
       "                                           embedding  \n",
       "0  [[0.019123591482639313, -0.013785659335553646,...  \n",
       "1  [[0.0118407616391778, -0.0035381473135203123, ...  \n",
       "2  [[0.008984504267573357, -0.003333796514198184,...  \n",
       "3  [[-0.011388594284653664, -0.007934107445180416...  \n",
       "4  [[0.014624868519604206, -0.0006087979418225586...  "
      ]
     },
     "execution_count": 16,
     "metadata": {},
     "output_type": "execute_result"
    }
   ],
   "source": [
    "df.head()\n"
   ]
  },
  {
   "cell_type": "code",
   "execution_count": 18,
   "metadata": {},
   "outputs": [
    {
     "name": "stdout",
     "output_type": "stream",
     "text": [
      "* Running on local URL:  http://127.0.0.1:7861\n",
      "* Running on public URL: https://2a07ecd7676a81f0f8.gradio.live\n",
      "\n",
      "This share link expires in 72 hours. For free permanent hosting and GPU upgrades, run `gradio deploy` from the terminal in the working directory to deploy to Hugging Face Spaces (https://huggingface.co/spaces)\n"
     ]
    },
    {
     "data": {
      "text/html": [
       "<div><iframe src=\"https://2a07ecd7676a81f0f8.gradio.live\" width=\"100%\" height=\"500\" allow=\"autoplay; camera; microphone; clipboard-read; clipboard-write;\" frameborder=\"0\" allowfullscreen></iframe></div>"
      ],
      "text/plain": [
       "<IPython.core.display.HTML object>"
      ]
     },
     "metadata": {},
     "output_type": "display_data"
    },
    {
     "data": {
      "text/plain": []
     },
     "execution_count": 18,
     "metadata": {},
     "output_type": "execute_result"
    }
   ],
   "source": [
    "import gradio as gr\n",
    "import numpy as np\n",
    "from sklearn.preprocessing import normalize\n",
    "def query_search_chapters(doc, query, k=1):\n",
    "    # Filter DataFrame based on the specified document name\n",
    "    filtered_df = df[df['document_name'] == doc]\n",
    "    \n",
    "    # Ensure that the FAISS index and filtered_df have the same indices\n",
    "    indices_to_use = filtered_df.index.to_numpy()\n",
    "    filtered_embeddings = np.array([index.reconstruct(int(idx)) for idx in indices_to_use])\n",
    "\n",
    "    # Step 1: Generate the embedding for the query\n",
    "    query_embedding = model1.encode([query])\n",
    "    \n",
    "    # Normalize the query embedding (FAISS uses cosine similarity which works with normalized vectors)\n",
    "    query_embedding = normalize(query_embedding)\n",
    "\n",
    "    # Step 2: Perform the search on the filtered embeddings (k is the number of nearest neighbors to retrieve)\n",
    "    distances, indices = index.search(query_embedding, k)\n",
    "\n",
    "    # Step 3: Retrieve metadata for the top k results from the filtered DataFrame\n",
    "    results = []\n",
    "    for i in range(min(k, len(indices[0]))):  # Ensure we don't exceed the index bounds\n",
    "        idx = indices[0][i]\n",
    "        \n",
    "        # Check if the index is within bounds\n",
    "        if idx >= len(indices_to_use):\n",
    "            continue  # Skip if index is out of bounds\n",
    "        \n",
    "        # Map FAISS index to the original index in `df`\n",
    "        original_idx = indices_to_use[idx]\n",
    "        \n",
    "        # Retrieve metadata for the corresponding chunk\n",
    "        result = filtered_df.loc[original_idx]\n",
    "        result['similarity'] = distances[0][i]  # Add the similarity score (distance)\n",
    "        results.append(result)\n",
    "    \n",
    "    return results\n",
    "\n",
    "# Define the function that Gradio will use, with the document name set by default\n",
    "def generate_grammar_explanation(question):\n",
    "    document_name = \"مراجعة السابقة المكتسبات.docx\"  # Set the default document name\n",
    "    prompt_input = \"انت مساعد شخصي فقط اي سوال يجب ان يرد عليه بشرح للاعراب للاطفال\"\n",
    "    \n",
    "    # Perform the search using the query and document name\n",
    "    top_k_results = query_search_chapters(document_name, question, k=2)\n",
    "    \n",
    "    # Concatenate the most relevant chunks into the prompt\n",
    "    context = \"\"\n",
    "    for result in top_k_results:\n",
    "        context += f\"النص: {result['chunk_content']}\\n\"\n",
    "    \n",
    "    # Prepare the full prompt with context and the question\n",
    "    formattedQuestion = f\"<s> [INST] {question} [/INST]\"\n",
    "    prompt = f\"{prompt_input}\\n{context}\\n{formattedQuestion}\"\n",
    "\n",
    "    # Generate response using the model\n",
    "    generated_response = model.generate_text(prompt=prompt, guardrails=False)\n",
    "    return generated_response\n",
    "\n",
    "# Set up Gradio interface\n",
    "iface = gr.Interface(\n",
    "    fn=generate_grammar_explanation,\n",
    "    inputs=gr.Textbox(label=\"Question\"),\n",
    "    outputs=gr.Textbox(label=\"Answer\"),\n",
    "    title=\"Arabic Grammar Explanation for Children\",\n",
    "    description=\"Ask any Arabic grammar question, and get an easy-to-understand explanation tailored for kids.\"\n",
    ")\n",
    "\n",
    "# Launch the interface\n",
    "iface.launch(share=True)\n"
   ]
  },
  {
   "cell_type": "code",
   "execution_count": 23,
   "metadata": {},
   "outputs": [
    {
     "name": "stderr",
     "output_type": "stream",
     "text": [
      "c:\\Users\\Roro1\\anaconda3\\Lib\\site-packages\\pydantic\\_internal\\_generate_schema.py:330: RuntimeWarning: coroutine 'Server.serve' was never awaited\n",
      "  def __init__(self, types_namespace: TypesNamespace):\n",
      "RuntimeWarning: Enable tracemalloc to get the object allocation traceback\n"
     ]
    },
    {
     "name": "stdout",
     "output_type": "stream",
     "text": [
      "* Running on local URL:  http://127.0.0.1:7864\n",
      "* Running on public URL: https://0a1133f6c707500130.gradio.live\n",
      "\n",
      "This share link expires in 72 hours. For free permanent hosting and GPU upgrades, run `gradio deploy` from the terminal in the working directory to deploy to Hugging Face Spaces (https://huggingface.co/spaces)\n"
     ]
    },
    {
     "data": {
      "text/html": [
       "<div><iframe src=\"https://0a1133f6c707500130.gradio.live\" width=\"100%\" height=\"500\" allow=\"autoplay; camera; microphone; clipboard-read; clipboard-write;\" frameborder=\"0\" allowfullscreen></iframe></div>"
      ],
      "text/plain": [
       "<IPython.core.display.HTML object>"
      ]
     },
     "metadata": {},
     "output_type": "display_data"
    },
    {
     "data": {
      "text/plain": []
     },
     "execution_count": 23,
     "metadata": {},
     "output_type": "execute_result"
    }
   ],
   "source": [
    "import gradio as gr\n",
    "import numpy as np\n",
    "from sklearn.preprocessing import normalize\n",
    "# Function to perform the search\n",
    "def query_search(query, k=1):\n",
    "    # Step 1: Generate the embedding for the query\n",
    "    query_embedding = model1.encode([query])\n",
    "    \n",
    "    # Normalize the query embedding (FAISS uses cosine similarity which works with normalized vectors)\n",
    "    query_embedding = normalize(query_embedding)\n",
    "    \n",
    "    # Step 2: Perform the search with FAISS (k is the number of nearest neighbors to retrieve)\n",
    "    distances, indices = index.search(query_embedding, k)  # distances and indices of the closest neighbors\n",
    "    \n",
    "    # Step 3: Retrieve metadata for the top k results\n",
    "    results = []\n",
    "    for i in range(k):\n",
    "        # Get the index and metadata from the CSV file using the index from FAISS\n",
    "        idx = indices[0][i]\n",
    "        result = df.iloc[idx]  # Access the metadata for the chunk\n",
    "        result['similarity'] = distances[0][i]  # Add the similarity score (distance)\n",
    "        results.append(result)\n",
    "    \n",
    "    return results\n",
    "\n",
    "# Define the function that Gradio will use, with the document name set by default\n",
    "def generate_grammar_explanation(question):\n",
    "    prompt_input = \"انت مساعد شخصي فقط اي سوال يجب ان يرد عليه بشرح للاعراب للاطفال\"\n",
    "    \n",
    "    # Perform the search using the query and document name\n",
    "    top_k_results = query_search(question, k=2)\n",
    "    \n",
    "    # Concatenate the most relevant chunks into the prompt\n",
    "    context = \"\"\n",
    "    for result in top_k_results:\n",
    "        context += f\"النص: {result['chunk_content']}\\n\"\n",
    "    \n",
    "    # Prepare the full prompt with context and the question\n",
    "    formattedQuestion = f\"<s> [INST] {question} [/INST]\"\n",
    "    prompt = f\"{prompt_input}\\n{context}\\n{formattedQuestion}\"\n",
    "\n",
    "    # Generate response using the model\n",
    "    generated_response = model.generate_text(prompt=prompt, guardrails=False)\n",
    "    return generated_response\n",
    "\n",
    "# Set up Gradio interface\n",
    "iface = gr.Interface(\n",
    "    fn=generate_grammar_explanation,\n",
    "    inputs=gr.Textbox(label=\"Question\"),\n",
    "    outputs=gr.Textbox(label=\"Answer\"),\n",
    "    title=\"Arabic Grammar Explanation for Children\",\n",
    "    description=\"Ask any Arabic grammar question, and get an easy-to-understand explanation tailored for kids.\"\n",
    ")\n",
    "\n",
    "# Launch the interface\n",
    "iface.launch(share=True)\n"
   ]
  },
  {
   "cell_type": "markdown",
   "metadata": {},
   "source": [
    "2oZTQ5C6H8YErAIomyO38C6HLM3_3m5wNjEU6ZtgnNz74iSJ3"
   ]
  },
  {
   "cell_type": "code",
   "execution_count": null,
   "metadata": {},
   "outputs": [
    {
     "name": "stderr",
     "output_type": "stream",
     "text": [
      "c:\\Users\\Roro1\\anaconda3\\Lib\\site-packages\\sentence_transformers\\cross_encoder\\CrossEncoder.py:13: TqdmExperimentalWarning: Using `tqdm.autonotebook.tqdm` in notebook mode. Use `tqdm.tqdm` instead to force console mode (e.g. in jupyter console)\n",
      "  from tqdm.autonotebook import tqdm, trange\n"
     ]
    }
   ],
   "source": [
    "from flask import Flask, request, jsonify\n",
    "from flask_ngrok import run_with_ngrok\n",
    "from pyngrok import ngrok\n",
    "from flask_cors import CORS\n",
    "from sentence_transformers import SentenceTransformer\n",
    "import faiss\n",
    "import pandas as pd\n",
    "from sklearn.preprocessing import normalize\n",
    "\n",
    "# Initialize Flask app\n",
    "app = Flask(__name__)\n",
    "\n",
    "# Enable CORS for all routes and origins\n",
    "\n",
    "CORS(app, resources={r\"/*\": {\"origins\": \"*\", \"methods\": [\"POST\", \"OPTIONS\"]}})\n",
    "\n",
    "# Set ngrok API key\n",
    "ngrok.set_auth_token('')\n",
    "\n",
    "run_with_ngrok(app)\n",
    "\n",
    "# Function to perform query search using FAISS\n",
    "def query_search(query, k=1):\n",
    "    query_embedding = model1.encode([query])  # Generate embedding for the query\n",
    "    query_embedding = normalize(query_embedding)  # Normalize embedding\n",
    "    \n",
    "    distances, indices = index.search(query_embedding, k)  # Search in the index\n",
    "    results = []\n",
    "    \n",
    "    for i in range(k):\n",
    "        idx = indices[0][i]  # Retrieve the index\n",
    "        result = df.iloc[idx]  # Access corresponding chunk content\n",
    "        result['similarity'] = distances[0][i]  # Add similarity score\n",
    "        results.append(result)\n",
    "    \n",
    "    return results\n",
    "\n",
    "# Define Flask route for generating grammar explanation\n",
    "@app.route(\"/generate_grammar_explanation\", methods=[\"POST\"])\n",
    "def generate_grammar_explanation():\n",
    "    data = request.get_json()\n",
    "    question = data.get(\"question\")\n",
    "    \n",
    "    # Search for relevant content based on the question\n",
    "    top_k_results = query_search(question, k=2)\n",
    "    \n",
    "    context = \"\"\n",
    "    for result in top_k_results:\n",
    "        context += f\"النص: {result['chunk_content']}\\n\"\n",
    "    \n",
    "    formattedQuestion = f\"<s> [INST] {question} [/INST]\"\n",
    "    prompt = f\"انت مساعد شخصي فقط اي سوال يجب ان يرد عليه بشرح للاعراب للاطفال\\n{context}\\n{formattedQuestion}\"\n",
    "    \n",
    "    # Generate response using the model\n",
    "    generated_response = model.generate_text(prompt=prompt, guardrails=False)\n",
    "    \n",
    "    return jsonify({\"answer\": generated_response})\n",
    "\n",
    "if __name__ == \"__main__\":\n",
    "    app.run()\n"
   ]
  },
  {
   "cell_type": "code",
   "execution_count": null,
   "metadata": {},
   "outputs": [],
   "source": []
  }
 ],
 "metadata": {
  "kernelspec": {
   "display_name": "base",
   "language": "python",
   "name": "python3"
  },
  "language_info": {
   "codemirror_mode": {
    "name": "ipython",
    "version": 3
   },
   "file_extension": ".py",
   "mimetype": "text/x-python",
   "name": "python",
   "nbconvert_exporter": "python",
   "pygments_lexer": "ipython3",
   "version": "3.12.4"
  }
 },
 "nbformat": 4,
 "nbformat_minor": 2
}
